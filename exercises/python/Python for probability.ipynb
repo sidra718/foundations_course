{
 "cells": [
  {
   "cell_type": "markdown",
   "metadata": {},
   "source": [
    "# Python for probability"
   ]
  },
  {
   "cell_type": "markdown",
   "metadata": {},
   "source": [
    "### A die is rolled, find the probability that an even number is obtained."
   ]
  },
  {
   "cell_type": "markdown",
   "metadata": {},
   "source": [
    "$P(die = even) = \\frac{3}{6}$\n",
    "\n",
    "$P(die = even) = \\frac{1}{2}$"
   ]
  },
  {
   "cell_type": "markdown",
   "metadata": {},
   "source": [
    "### Two coins are tossed, find the probability that two heads are obtained. "
   ]
  },
  {
   "cell_type": "markdown",
   "metadata": {},
   "source": [
    "$P(\\text{number is even}) = \\frac{1}{2}\\times \\frac{1}{2}$\n",
    "\n",
    "$P(\\text number is even) = \\frac{1}{4}$"
   ]
  },
  {
   "cell_type": "markdown",
   "metadata": {},
   "source": [
    "### Which of these numbers cannot be a probability? \n",
    "\n",
    "* -0.00001 \n",
    "* 0.5 \n",
    "* 1.001 \n",
    "* 0 \n",
    "* 1 \n",
    "* 20% "
   ]
  },
  {
   "cell_type": "markdown",
   "metadata": {},
   "source": [
    "-0.00001 cannot be a probability"
   ]
  },
  {
   "cell_type": "markdown",
   "metadata": {},
   "source": [
    "### Two dice are rolled, find the probability that the sum is \n",
    "* lesser than or equal to 1 \n",
    "* lesser than or equal to 4 \n",
    "* lesser than or equal to 13 "
   ]
  },
  {
   "cell_type": "markdown",
   "metadata": {},
   "source": [
    "$P(sum < =1) = 0\n",
    "\n",
    "$P(sum <= 4) = \\frac{6}{36}$\n",
    "\n",
    "$P(sum <= 13) = 1"
   ]
  },
  {
   "cell_type": "markdown",
   "metadata": {},
   "source": [
    "### Write a code for the above problem. \n",
    "\n",
    "Input is the value for attribute sum\n",
    "Output is the probability value"
   ]
  },
  {
   "cell_type": "code",
   "execution_count": 16,
   "metadata": {},
   "outputs": [
    {
     "name": "stdout",
     "output_type": "stream",
     "text": [
      "Enter a sum number to find probability\n",
      "7\n"
     ]
    },
    {
     "data": {
      "text/plain": [
       "0.5833333333333334"
      ]
     },
     "execution_count": 16,
     "metadata": {},
     "output_type": "execute_result"
    }
   ],
   "source": [
    "import math\n",
    "import numpy as np\n",
    "print \"Enter a sum number to find probability\"\n",
    "\n",
    "in_ = input()\n",
    "\n",
    "# final_array = []\n",
    "# for i in range(1,7):\n",
    "#    array = []\n",
    "#    for j in range(1,7):\n",
    "#        array.append(i+j)\n",
    "#    final_array.append(array)\n",
    "# print final_array\n",
    "\n",
    "\n",
    "def probability(num_):\n",
    "    values = np.linspace(1,6,6)\n",
    "    sum_array = np.array([i+j for i in values for j in values])\n",
    "    possibilities = sum_array[np.where(sum_array<=num_)]\n",
    "    p = len(possibilities)/36.0\n",
    "    return p \n",
    "\n",
    "probability(in_)\n",
    "        "
   ]
  },
  {
   "cell_type": "markdown",
   "metadata": {},
   "source": [
    "### We have a bag containing 4 yellow, 5 green and 6 orange candies. We draw two candies without replacement. Find the probability of getting both candies green."
   ]
  },
  {
   "cell_type": "markdown",
   "metadata": {},
   "source": [
    "$P(\\text G1,G2) = \\frac{5}{15} \\times \\frac{4}{14}$\n",
    "\n",
    "$P(\\text G1,G2) = \\frac{20}{210}$"
   ]
  },
  {
   "cell_type": "markdown",
   "metadata": {},
   "source": [
    "### Given is a basket of fruits containing 4 oranges, 5 apples and 1 pears. We pick three fruits with replacement from the basket. Find the probability of getting an orange and two apples.\n"
   ]
  },
  {
   "cell_type": "markdown",
   "metadata": {},
   "source": [
    "$P(\\text{OAA}) = (\\frac{4}{10} \\times \\frac{5}{10} \\times \\frac{5}{10}) + (\\frac{5}{10} \\times \\frac{5}{10} \\times \\frac{4}{10}) + (\\frac{5}{10} \\times \\frac{4}{10} \\times \\frac{5}{10})$\n",
    "\n",
    "$P(\\text{OAA} = (\\frac{3}{10})$"
   ]
  },
  {
   "cell_type": "markdown",
   "metadata": {},
   "source": [
    "## Mutually exclusive events"
   ]
  },
  {
   "cell_type": "markdown",
   "metadata": {},
   "source": [
    "### Find the probability of securing exactly two heads or getting exactly two tails in the experiment of tossing three coins together."
   ]
  },
  {
   "cell_type": "markdown",
   "metadata": {},
   "source": [
    "$P(\\text{2 heads}) = \\frac{6}{8}$"
   ]
  },
  {
   "cell_type": "markdown",
   "metadata": {},
   "source": [
    "### Eighty tickets are sold for a rock show. Smith buys 10 tickets and Criss buys 20 tickets. One of tickets is randomly select as the winning ticket. What is the probability that Smith or Criss wins?"
   ]
  },
  {
   "cell_type": "markdown",
   "metadata": {},
   "source": [
    "$P(\\text{Smith or Chris wins}) = \\frac{10}{80} + \\frac{20}{80}$"
   ]
  },
  {
   "cell_type": "markdown",
   "metadata": {},
   "source": [
    "## Dependant events"
   ]
  },
  {
   "cell_type": "markdown",
   "metadata": {},
   "source": [
    "### Two dice are rolled, find the probability is sum is even or lesser than 4"
   ]
  },
  {
   "cell_type": "markdown",
   "metadata": {},
   "source": [
    "Probability that sum is even or lesser than 4:\n",
    "\n",
    "$P(\\text{even or less than 4}) = \\frac{18}{36} + \\frac{3}{36} - \\frac{1}{36}$"
   ]
  },
  {
   "cell_type": "markdown",
   "metadata": {},
   "source": [
    "### We pick a card from a deck of 52 cards. Find the probability of getting a heart or a king."
   ]
  },
  {
   "cell_type": "markdown",
   "metadata": {},
   "source": [
    "$P(\\text{heart or king}) = \\frac{13}{52} + \\frac{4}{52} - \\frac{1}{52}$"
   ]
  },
  {
   "cell_type": "markdown",
   "metadata": {},
   "source": [
    "## Joint, Marginal and Conditional Probabilities."
   ]
  },
  {
   "cell_type": "markdown",
   "metadata": {},
   "source": [
    "### Measurements for the length and width of a rectangular plastic covers for CDs have been provided below. The values have been rounded off the nearest mm. \n",
    "\n",
    "### Let X denote the length and Y denote the width. The possible values of X are 129, 130, and 131 mm. The possible values of Y are 15 and 16 mm (Thus, both X and Y are discrete).\n",
    "\n",
    "### The joint probability distribution is mentioned below X values along the x axis and Y values along the y axis\n",
    "\n",
    "\n",
    "| Y/X  | 129   | 130   | 131  |\n",
    "| ---- | ----  | ----  | ---- |\n",
    "| 15   | 0.12 | 0.42  | 0.06 |\n",
    "| 16   | 0.08 | 0.28  | 0.04 |\n",
    "\n",
    "\n",
    "\n",
    "Find the marginal probability values for all the values of X and Y.\n",
    "\n",
    "Find the conditional probability for the following:\n",
    "\n",
    "1) P(X = 130 | Y = 16) = 0.7\n",
    "\n",
    "2) P(X = 129 | Y = 16) = 0.2\n",
    "\n",
    "3) P(Y = 16 | X = 130) = 0.4"
   ]
  },
  {
   "cell_type": "markdown",
   "metadata": {},
   "source": [
    "### Write a python code to calculate the marginal probabilities:\n",
    "\n",
    "#### Input : Variable name for which the marginal probability has to be calculated.\n",
    "#### Output : An array of probability values.\n",
    "\n"
   ]
  },
  {
   "cell_type": "code",
   "execution_count": null,
   "metadata": {},
   "outputs": [],
   "source": []
  },
  {
   "cell_type": "markdown",
   "metadata": {},
   "source": [
    "### You toss a fair coin three times:\n",
    "\n",
    "* What is the probability of three heads, HHH?\n",
    "* What is the probability that you observe exactly one heads?\n",
    "* Given that you have observed at least one heads, what is the probability that you observe at least two heads?"
   ]
  },
  {
   "cell_type": "markdown",
   "metadata": {},
   "source": [
    "$P(3 heads) = \\frac{1}{8}$\n",
    "\n",
    "$P(one head) = \\frac{3}{8}$\n",
    "\n",
    "$P(at least one heads|at least two heads) = \\frac{3}{8}$\n"
   ]
  },
  {
   "cell_type": "markdown",
   "metadata": {},
   "source": [
    "## Bayes rule"
   ]
  },
  {
   "cell_type": "markdown",
   "metadata": {},
   "source": [
    "### A box contains three coins: two regular coins and one fake two-headed coin (P(H)=1),\n",
    "\n",
    "* You pick a coin at random and toss it. What is the probability that it lands heads up?\n",
    "* You pick a coin at random and toss it, and get heads. What is the probability that it is the two-headed coin?"
   ]
  },
  {
   "cell_type": "code",
   "execution_count": null,
   "metadata": {},
   "outputs": [],
   "source": []
  },
  {
   "cell_type": "markdown",
   "metadata": {},
   "source": [
    "### I have three bags that each contain 100 marbles: Bag 1 has 75 red and 25 blue marbles; Bag 2 has 60 red and 40 blue marbles; Bag 3 has 45 red and 55 blue marbles. \n",
    "\n",
    "### I choose one of the bags at random and then pick a marble from the chosen bag, also at random. What is the probability that the chosen marble is red?\n"
   ]
  },
  {
   "cell_type": "code",
   "execution_count": null,
   "metadata": {},
   "outputs": [],
   "source": []
  },
  {
   "cell_type": "markdown",
   "metadata": {},
   "source": [
    "### In the previous question, suppose we observe that the chosen marble is red. What is the probability that Bag 1 was chosen?"
   ]
  },
  {
   "cell_type": "code",
   "execution_count": null,
   "metadata": {},
   "outputs": [],
   "source": []
  },
  {
   "cell_type": "markdown",
   "metadata": {},
   "source": [
    "### Reference\n",
    "\n",
    "http://www.analyzemath.com/statistics/probability_questions.html\n",
    "\n",
    "http://www.probabilityformula.org/probability-without-replacement.html#\n",
    "\n",
    "http://www.probabilityformula.org/disjoint-events.html#\n",
    "\n",
    "http://homepage.stat.uiowa.edu/~rdecook/stat2020/notes/ch5_pt1.pdf\n",
    "\n",
    "https://www.probabilitycourse.com/chapter1/1_4_5_solved3.php\n",
    "\n",
    "**Markdown cheatsheet for styling:**\n",
    "\n",
    "http://nestacms.com/docs/creating-content/markdown-cheat-sheet"
   ]
  },
  {
   "cell_type": "code",
   "execution_count": null,
   "metadata": {},
   "outputs": [],
   "source": []
  }
 ],
 "metadata": {
  "kernelspec": {
   "display_name": "Python 2",
   "language": "python",
   "name": "python2"
  },
  "language_info": {
   "codemirror_mode": {
    "name": "ipython",
    "version": 2
   },
   "file_extension": ".py",
   "mimetype": "text/x-python",
   "name": "python",
   "nbconvert_exporter": "python",
   "pygments_lexer": "ipython2",
   "version": "2.7.12"
  }
 },
 "nbformat": 4,
 "nbformat_minor": 2
}
